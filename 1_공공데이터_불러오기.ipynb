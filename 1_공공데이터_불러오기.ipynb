{
  "nbformat": 4,
  "nbformat_minor": 0,
  "metadata": {
    "colab": {
      "provenance": [],
      "collapsed_sections": [],
      "authorship_tag": "ABX9TyP+/vOR+ACYMn+bkygBsfrV",
      "include_colab_link": true
    },
    "kernelspec": {
      "name": "python3",
      "display_name": "Python 3"
    },
    "language_info": {
      "name": "python"
    }
  },
  "cells": [
    {
      "cell_type": "markdown",
      "metadata": {
        "id": "view-in-github",
        "colab_type": "text"
      },
      "source": [
        "<a href=\"https://colab.research.google.com/github/cnddlf/2022_1_Study_AI/blob/main/1_%EA%B3%B5%EA%B3%B5%EB%8D%B0%EC%9D%B4%ED%84%B0_%EB%B6%88%EB%9F%AC%EC%98%A4%EA%B8%B0.ipynb\" target=\"_parent\"><img src=\"https://colab.research.google.com/assets/colab-badge.svg\" alt=\"Open In Colab\"/></a>"
      ]
    },
    {
      "cell_type": "code",
      "execution_count": null,
      "metadata": {
        "id": "a-wr72pvs51C"
      },
      "outputs": [],
      "source": [
        "from urllib.request import Request, urlopen\n",
        "from urllib.parse import urlencode, quote_plus\n",
        "\n",
        "# 서비스URL\n",
        "url= 'http://ws.bus.go.kr/api/rest/busRouteInfo/getStaionByRoute'\n",
        "#인증키 디코더\n",
        "authKey='OthsqLufBGaTqmn9er0Y4NZ8FjZpADs4b8G8n31MiGue+YyFlXw4wpSBjvX93MZot2R1Ko30ee5nWRl0wwqN5w=='\n",
        "#파라미터\n",
        "queryParams= '?'+urlencode({\n",
        "    quote_plus('ServiceKey'):authKey,\n",
        "    quote_plus('strSrch'):'3'\n",
        "})\n",
        "#사이트 접속을 위한 url 생성\n",
        "request = Request(url+queryParams)\n",
        "#get 방식\n",
        "request.get_method = lambda:'GET'\n",
        "#urlopen으로 사이트 접속 후 read로 결과 얻기\n",
        "response_body = urlopen(request).read()\n",
        "response_body"
      ]
    },
    {
      "cell_type": "code",
      "source": [
        "from urllib.request import Request, urlopen\n",
        "from urllib.parse import urlencode, quote_plus\n",
        "\n",
        "# 서비스URL\n",
        "url= 'http://apis.data.go.kr/B551182/pharmacyInfoService/getParmacyBasisList'\n",
        "#인증키 디코더\n",
        "authKey='OthsqLufBGaTqmn9er0Y4NZ8FjZpADs4b8G8n31MiGue+YyFlXw4wpSBjvX93MZot2R1Ko30ee5nWRl0wwqN5w=='\n",
        "#파라미터\n",
        "queryParams= '?'+urlencode({\n",
        "    quote_plus('ServiceKey'):authKey,\n",
        "    quote_plus('pageNo') : '1', quote_plus('numOfRows') : '10', \n",
        "    quote_plus('sidoCd') : '110000', quote_plus('sgguCd') : '110019', \n",
        "    quote_plus('emdongNm') : '신내동', quote_plus('yadmNm') : '온누리', \n",
        "    quote_plus('xPos') : '127.0965441345503', quote_plus('yPos') : '37.60765568913871', \n",
        "    quote_plus('radius') : '3000'\n",
        "})\n",
        "#사이트 접속을 위한 url 생성\n",
        "request = Request(url+queryParams)\n",
        "#get 방식\n",
        "request.get_method = lambda:'GET'\n",
        "#urlopen으로 사이트 접속 후 read로 결과 얻기\n",
        "response_body = urlopen(request).read()\n",
        "response_body"
      ],
      "metadata": {
        "id": "BM1NNSQzycJP"
      },
      "execution_count": null,
      "outputs": []
    }
  ]
}