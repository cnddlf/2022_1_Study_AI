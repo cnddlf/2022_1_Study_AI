{
  "nbformat": 4,
  "nbformat_minor": 0,
  "metadata": {
    "colab": {
      "provenance": [],
      "collapsed_sections": [],
      "authorship_tag": "ABX9TyO4UDLJahVQG3Cf93hNeQ4x",
      "include_colab_link": true
    },
    "kernelspec": {
      "name": "python3",
      "display_name": "Python 3"
    },
    "language_info": {
      "name": "python"
    }
  },
  "cells": [
    {
      "cell_type": "markdown",
      "metadata": {
        "id": "view-in-github",
        "colab_type": "text"
      },
      "source": [
        "<a href=\"https://colab.research.google.com/github/cnddlf/2022_1_Study_AI/blob/main/%EC%B0%A8%EC%9B%90%EC%B6%95%EC%86%8C_LDA_Quiz(0303).ipynb\" target=\"_parent\"><img src=\"https://colab.research.google.com/assets/colab-badge.svg\" alt=\"Open In Colab\"/></a>"
      ]
    },
    {
      "cell_type": "markdown",
      "source": [
        "> 보스턴 주택 가격 데이터 LDA를 이용하여 차원축소하고 KNN을 이용하여 정확도를 구하시오(다음 순서를 참고하여 작성하시오)\n",
        "> 1. 데이터 얻기\n",
        "> 2. 학습 및 데이터 나누기\n",
        "> 3. 데이터 표준화\n",
        "> 4. 주성분데이터 찾기\n",
        "> 5. KNN 모델 적용"
      ],
      "metadata": {
        "id": "nE75VCPCY1Sd"
      }
    },
    {
      "cell_type": "markdown",
      "source": [
        "#1. 데이터 얻기"
      ],
      "metadata": {
        "id": "Riysf2cga9FT"
      }
    },
    {
      "cell_type": "code",
      "execution_count": null,
      "metadata": {
        "colab": {
          "base_uri": "https://localhost:8080/"
        },
        "id": "Xng__7b6Xt84",
        "outputId": "e2fae2cc-abb3-4691-95d5-e01ab79de52a"
      },
      "outputs": [
        {
          "output_type": "stream",
          "name": "stderr",
          "text": [
            "/usr/local/lib/python3.7/dist-packages/sklearn/utils/deprecation.py:87: FutureWarning: Function load_boston is deprecated; `load_boston` is deprecated in 1.0 and will be removed in 1.2.\n",
            "\n",
            "    The Boston housing prices dataset has an ethical problem. You can refer to\n",
            "    the documentation of this function for further details.\n",
            "\n",
            "    The scikit-learn maintainers therefore strongly discourage the use of this\n",
            "    dataset unless the purpose of the code is to study and educate about\n",
            "    ethical issues in data science and machine learning.\n",
            "\n",
            "    In this special case, you can fetch the dataset from the original\n",
            "    source::\n",
            "\n",
            "        import pandas as pd\n",
            "        import numpy as np\n",
            "\n",
            "\n",
            "        data_url = \"http://lib.stat.cmu.edu/datasets/boston\"\n",
            "        raw_df = pd.read_csv(data_url, sep=\"\\s+\", skiprows=22, header=None)\n",
            "        data = np.hstack([raw_df.values[::2, :], raw_df.values[1::2, :2]])\n",
            "        target = raw_df.values[1::2, 2]\n",
            "\n",
            "    Alternative datasets include the California housing dataset (i.e.\n",
            "    :func:`~sklearn.datasets.fetch_california_housing`) and the Ames housing\n",
            "    dataset. You can load the datasets as follows::\n",
            "\n",
            "        from sklearn.datasets import fetch_california_housing\n",
            "        housing = fetch_california_housing()\n",
            "\n",
            "    for the California housing dataset and::\n",
            "\n",
            "        from sklearn.datasets import fetch_openml\n",
            "        housing = fetch_openml(name=\"house_prices\", as_frame=True)\n",
            "\n",
            "    for the Ames housing dataset.\n",
            "    \n",
            "  warnings.warn(msg, category=FutureWarning)\n"
          ]
        },
        {
          "output_type": "execute_result",
          "data": {
            "text/plain": [
              "array([[6.3200e-03, 1.8000e+01, 2.3100e+00, 0.0000e+00, 5.3800e-01,\n",
              "        6.5750e+00, 6.5200e+01, 4.0900e+00, 1.0000e+00, 2.9600e+02,\n",
              "        1.5300e+01, 3.9690e+02, 4.9800e+00],\n",
              "       [2.7310e-02, 0.0000e+00, 7.0700e+00, 0.0000e+00, 4.6900e-01,\n",
              "        6.4210e+00, 7.8900e+01, 4.9671e+00, 2.0000e+00, 2.4200e+02,\n",
              "        1.7800e+01, 3.9690e+02, 9.1400e+00],\n",
              "       [2.7290e-02, 0.0000e+00, 7.0700e+00, 0.0000e+00, 4.6900e-01,\n",
              "        7.1850e+00, 6.1100e+01, 4.9671e+00, 2.0000e+00, 2.4200e+02,\n",
              "        1.7800e+01, 3.9283e+02, 4.0300e+00],\n",
              "       [3.2370e-02, 0.0000e+00, 2.1800e+00, 0.0000e+00, 4.5800e-01,\n",
              "        6.9980e+00, 4.5800e+01, 6.0622e+00, 3.0000e+00, 2.2200e+02,\n",
              "        1.8700e+01, 3.9463e+02, 2.9400e+00],\n",
              "       [6.9050e-02, 0.0000e+00, 2.1800e+00, 0.0000e+00, 4.5800e-01,\n",
              "        7.1470e+00, 5.4200e+01, 6.0622e+00, 3.0000e+00, 2.2200e+02,\n",
              "        1.8700e+01, 3.9690e+02, 5.3300e+00]])"
            ]
          },
          "metadata": {},
          "execution_count": 1
        }
      ],
      "source": [
        "from sklearn import datasets\n",
        "\n",
        "boston = datasets.load_boston()\n",
        "\n",
        "data = boston['data']\n",
        "data[:5]"
      ]
    },
    {
      "cell_type": "markdown",
      "source": [
        "#2. 표준화"
      ],
      "metadata": {
        "id": "TnMGXdCJu_aF"
      }
    },
    {
      "cell_type": "code",
      "source": [
        "from sklearn.preprocessing import StandardScaler\n",
        "\n",
        "scaler = StandardScaler()\n",
        "data_std = scaler.fit_transform(data)"
      ],
      "metadata": {
        "id": "5mjZT6fCu-2o"
      },
      "execution_count": null,
      "outputs": []
    },
    {
      "cell_type": "markdown",
      "source": [
        "#3. 훈련 및 검증 데이터"
      ],
      "metadata": {
        "id": "wfO4xvhpa7d2"
      }
    },
    {
      "cell_type": "code",
      "source": [
        "from sklearn.model_selection import train_test_split\n",
        "\n",
        "X_train, X_test, y_train, y_test = train_test_split(data_std, boston['target'], random_state=62)"
      ],
      "metadata": {
        "id": "22AF3uHZvWcM"
      },
      "execution_count": null,
      "outputs": []
    },
    {
      "cell_type": "markdown",
      "source": [
        "#4. 주성분 데이터 찾기"
      ],
      "metadata": {
        "id": "APyjME5kbxEC"
      }
    },
    {
      "cell_type": "code",
      "source": [
        "# LDA 사용시 label 정보는 정수이어야 함.\n",
        "y_train = y_train.astype('int')\n",
        "y_train"
      ],
      "metadata": {
        "colab": {
          "base_uri": "https://localhost:8080/"
        },
        "id": "DHrWnyb7v7Uc",
        "outputId": "0ae3231a-0814-47e4-c32f-61f3bd2c991c"
      },
      "execution_count": null,
      "outputs": [
        {
          "output_type": "execute_result",
          "data": {
            "text/plain": [
              "array([15, 48, 19, 26, 23, 23, 18, 26, 23, 16, 32, 23, 24, 23, 21, 12, 20,\n",
              "       13, 37, 22, 19, 14, 33, 17, 18, 22, 28, 24, 24, 11, 10, 37, 24, 20,\n",
              "       24, 21, 20, 24, 22, 23, 16, 22, 20, 17, 17, 35, 19, 21, 14, 18, 23,\n",
              "       21, 31,  7, 30, 24, 32, 20, 14, 22, 25, 18, 19, 20, 43, 23, 16, 20,\n",
              "       23, 26, 26, 15, 10, 21, 21, 50, 13, 43, 23, 25, 20, 23, 24, 19, 22,\n",
              "        8, 18, 32, 13, 17, 30, 10, 22, 29, 24, 29, 18, 23, 20, 17, 22, 11,\n",
              "       19, 28, 14, 27, 19, 31, 16, 18, 13, 10, 21, 20, 29, 17, 23, 50, 14,\n",
              "       18, 14, 34, 50, 13, 22, 22, 16, 13, 45, 50, 20, 26, 10, 14, 22, 14,\n",
              "       22, 13, 18, 23, 32, 16, 28, 16, 41,  5, 34, 13, 27, 25, 28, 24, 26,\n",
              "       23, 15, 24, 21, 14, 43, 11, 28,  6, 23, 15, 19, 31, 19, 24, 22, 15,\n",
              "       21, 16, 24, 21, 22, 12, 30, 17, 27, 10, 10, 21, 34, 18, 14, 22, 25,\n",
              "       11, 18, 20, 14, 23, 22, 16, 25, 21, 17, 17, 14, 17,  8, 33, 19, 21,\n",
              "       21, 36, 15, 19, 21, 29, 23, 24, 37,  7, 23, 29, 30, 23, 15, 13, 13,\n",
              "       19, 22, 20, 21, 17, 24, 27, 19, 20, 36, 50, 21, 13, 27, 15, 18, 19,\n",
              "       24, 15, 29, 17, 12, 28, 17,  5, 21, 19, 20, 27, 23,  8, 24, 14, 29,\n",
              "       22, 19, 50, 17, 20, 21, 21, 20, 19, 31,  5, 20, 50, 12, 33, 24, 21,\n",
              "       28, 18, 32, 22, 24,  8, 50, 28, 29, 42, 12, 19, 20, 22, 21, 24,  7,\n",
              "       21, 20, 20, 18, 37, 42, 20, 23, 13, 22, 12, 19, 17, 19, 22, 25, 50,\n",
              "       15, 22, 18, 23, 19, 17, 27, 18, 30, 28, 16, 23,  7, 32, 11, 33, 23,\n",
              "       48, 20, 19, 34, 18,  8, 18, 50, 13, 24,  8, 13, 20, 11, 50,  9, 27,\n",
              "       18, 14, 12, 31, 29, 20, 23, 21, 14, 14, 18, 20,  9, 19, 19, 20, 19,\n",
              "       12, 44, 31, 18, 22, 15, 23, 25, 38, 14,  9,  7, 17, 17, 36, 23, 50,\n",
              "       18, 13, 23, 15, 20])"
            ]
          },
          "metadata": {},
          "execution_count": 4
        }
      ]
    },
    {
      "cell_type": "code",
      "source": [
        "from sklearn.discriminant_analysis import LinearDiscriminantAnalysis\n",
        "\n",
        "lda = LinearDiscriminantAnalysis()\n",
        "lda.fit(X_train, y_train)\n",
        "lda.explained_variance_ratio_"
      ],
      "metadata": {
        "colab": {
          "base_uri": "https://localhost:8080/"
        },
        "id": "gJdSufTqcIDA",
        "outputId": "51176574-15d3-40c6-b39f-18001b356748"
      },
      "execution_count": null,
      "outputs": [
        {
          "output_type": "execute_result",
          "data": {
            "text/plain": [
              "array([0.6226411 , 0.13428482, 0.0665114 , 0.04085967, 0.03246797,\n",
              "       0.02569701, 0.02043952, 0.01881548, 0.01160513, 0.01102314,\n",
              "       0.00739516, 0.00451698, 0.00374263])"
            ]
          },
          "metadata": {},
          "execution_count": 5
        }
      ]
    },
    {
      "cell_type": "code",
      "source": [
        "import numpy as np\n",
        "\n",
        "x_length = len(X_train[0])\n",
        "# 막대그래프의 위치를 지정할 정보\n",
        "x = np.arange(x_length)\n",
        "x"
      ],
      "metadata": {
        "colab": {
          "base_uri": "https://localhost:8080/"
        },
        "id": "zqov5BHyiXQw",
        "outputId": "792da528-4a99-4282-d143-3e367a1953f6"
      },
      "execution_count": null,
      "outputs": [
        {
          "output_type": "execute_result",
          "data": {
            "text/plain": [
              "array([ 0,  1,  2,  3,  4,  5,  6,  7,  8,  9, 10, 11, 12])"
            ]
          },
          "metadata": {},
          "execution_count": 6
        }
      ]
    },
    {
      "cell_type": "code",
      "source": [
        "import matplotlib.pyplot as plt\n",
        "\n",
        "plt.bar(x, lda.explained_variance_ratio_)\n",
        "# plt.xticks(x, columns)\n",
        "\n",
        "plt.show()"
      ],
      "metadata": {
        "colab": {
          "base_uri": "https://localhost:8080/",
          "height": 265
        },
        "id": "ozyhAIuMwSXv",
        "outputId": "fd9ec526-9411-423f-841b-d50d45a34ced"
      },
      "execution_count": null,
      "outputs": [
        {
          "output_type": "display_data",
          "data": {
            "text/plain": [
              "<Figure size 432x288 with 1 Axes>"
            ],
            "image/png": "[encoded data removed]"
          },
          "metadata": {
            "needs_background": "light"
          }
        }
      ]
    },
    {
      "cell_type": "markdown",
      "source": [
        "#5. K 최근접 이웃모델 적용"
      ],
      "metadata": {
        "id": "N_b8-ZOFwpe4"
      }
    },
    {
      "cell_type": "markdown",
      "source": [
        "##5.1 차원 축소"
      ],
      "metadata": {
        "id": "gTE0pUSbzF1v"
      }
    },
    {
      "cell_type": "code",
      "source": [
        "# 주성분 분석(PCA) 특성 추출 기법을 적용\n",
        "n_component_size = 7\n",
        "lda = LinearDiscriminantAnalysis(n_components=n_component_size)\n",
        "X_train_lda = lda.fit_transform(X_train, y_train)\n",
        "X_test_lda = lda.transform(X_test)"
      ],
      "metadata": {
        "id": "s6ch_DVvzFsd"
      },
      "execution_count": null,
      "outputs": []
    },
    {
      "cell_type": "markdown",
      "source": [
        "##5.2 KNN 모델 생성 및 학습"
      ],
      "metadata": {
        "id": "Sy4h18V-zs4o"
      }
    },
    {
      "cell_type": "code",
      "source": [
        "from sklearn.neighbors import KNeighborsRegressor\n",
        "\n",
        "knn = KNeighborsRegressor(n_neighbors = n_component_size)\n",
        "knn.fit(X_train_lda, y_train)"
      ],
      "metadata": {
        "colab": {
          "base_uri": "https://localhost:8080/"
        },
        "id": "8JTAXhiJzFpN",
        "outputId": "5abd855f-fd83-4ed0-93f0-5b748887ebcb"
      },
      "execution_count": null,
      "outputs": [
        {
          "output_type": "execute_result",
          "data": {
            "text/plain": [
              "KNeighborsRegressor(n_neighbors=7)"
            ]
          },
          "metadata": {},
          "execution_count": 9
        }
      ]
    },
    {
      "cell_type": "markdown",
      "source": [
        "##5.3 예측"
      ],
      "metadata": {
        "id": "lnZ4FyVZz9qq"
      }
    },
    {
      "cell_type": "code",
      "source": [
        "knn.score(X_test_lda, y_test)"
      ],
      "metadata": {
        "colab": {
          "base_uri": "https://localhost:8080/"
        },
        "id": "RqJBlUmWz9TC",
        "outputId": "9cf53c3e-2c6d-4a03-a430-c228df2fa0af"
      },
      "execution_count": null,
      "outputs": [
        {
          "output_type": "execute_result",
          "data": {
            "text/plain": [
              "0.8017046115408937"
            ]
          },
          "metadata": {},
          "execution_count": 10
        }
      ]
    },
    {
      "cell_type": "markdown",
      "source": [
        "##5.4 차트 확인"
      ],
      "metadata": {
        "id": "Qlysl5WC1ZYv"
      }
    },
    {
      "cell_type": "code",
      "source": [
        "y_predicted = knn.predict(X_test_lda)"
      ],
      "metadata": {
        "id": "xGPr40KD1b3C"
      },
      "execution_count": null,
      "outputs": []
    },
    {
      "cell_type": "code",
      "source": [
        "number_of_sample = 40\n",
        "plt.plot(range(number_of_sample), y_test[:number_of_sample], label='real target')\n",
        "plt.plot(range(number_of_sample), y_predicted[:number_of_sample], label='predicted target')\n",
        "plt.ylabel('price')\n",
        "plt.legend()\n",
        "plt.show()"
      ],
      "metadata": {
        "colab": {
          "base_uri": "https://localhost:8080/",
          "height": 265
        },
        "id": "AqWzv4BE1gpS",
        "outputId": "1418bcd6-1763-498b-cdc7-17174a80caec"
      },
      "execution_count": null,
      "outputs": [
        {
          "output_type": "display_data",
          "data": {
            "text/plain": [
              "<Figure size 432x288 with 1 Axes>"
            ],
            "image/png": "[encoded data removed]"
          },
          "metadata": {
            "needs_background": "light"
          }
        }
      ]
    },
    {
      "cell_type": "markdown",
      "source": [
        "#6. 하이퍼 파라미터"
      ],
      "metadata": {
        "id": "o33BbRjH1o0T"
      }
    },
    {
      "cell_type": "code",
      "source": [
        "from sklearn.model_selection import GridSearchCV\n",
        "\n",
        "def get_best_hyper_paramerter(dt_clf, n_neighbors_list, X_train, y_train):\n",
        "  params =  {\n",
        "    'n_neighbors' : n_neighbors_list,\n",
        "    'weights' : [\"uniform\", \"distance\"],\n",
        "    'metric' : ['euclidean', 'manhattan', 'minkowski']\n",
        "  }\n",
        "\n",
        "  grid_cv = GridSearchCV(dt_clf, param_grid=params, scoring='explained_variance', cv=5, verbose=1)\n",
        "  grid_cv.fit(X_train, y_train)\n",
        "  print('Best Score: ', grid_cv.best_score_)\n",
        "  print('Best Hyper Parameter: ', grid_cv.best_params_)"
      ],
      "metadata": {
        "id": "xLMectYL1rhF"
      },
      "execution_count": null,
      "outputs": []
    },
    {
      "cell_type": "markdown",
      "source": [
        "> 위의 하이퍼 파라미터 함수를 이용하여 최적의 파라미터를 구하시오."
      ],
      "metadata": {
        "id": "wPvejG9X1y7b"
      }
    },
    {
      "cell_type": "code",
      "source": [
        "y_train = boston['target'].astype('int')\n",
        "\n",
        "n_component_size = 7\n",
        "lda = LinearDiscriminantAnalysis(n_components=n_component_size)\n",
        "X_train_lda = lda.fit_transform(data_std, y_train)"
      ],
      "metadata": {
        "id": "icoehFlf5DOB"
      },
      "execution_count": null,
      "outputs": []
    },
    {
      "cell_type": "code",
      "source": [
        "# 10단위 리스트\n",
        "\n",
        "n_neighbors_list = range(1, 91, 10)\n",
        "knn = KNeighborsRegressor()"
      ],
      "metadata": {
        "id": "TcAAxv5O5Std"
      },
      "execution_count": null,
      "outputs": []
    },
    {
      "cell_type": "code",
      "source": [
        "get_best_hyper_paramerter(knn, n_neighbors_list, X_train_lda, y_train)"
      ],
      "metadata": {
        "colab": {
          "base_uri": "https://localhost:8080/"
        },
        "id": "o65yfnkRBinw",
        "outputId": "942f0010-0948-4286-a287-23fdfe9dd3d6"
      },
      "execution_count": null,
      "outputs": [
        {
          "output_type": "stream",
          "name": "stdout",
          "text": [
            "Fitting 5 folds for each of 54 candidates, totalling 270 fits\n",
            "Best Score:  0.6445111179972716\n",
            "Best Hyper Parameter:  {'metric': 'manhattan', 'n_neighbors': 11, 'weights': 'distance'}\n"
          ]
        }
      ]
    }
  ]
}