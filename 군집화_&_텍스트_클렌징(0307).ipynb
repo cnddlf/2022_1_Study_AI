{
  "nbformat": 4,
  "nbformat_minor": 0,
  "metadata": {
    "colab": {
      "provenance": [],
      "collapsed_sections": [],
      "authorship_tag": "ABX9TyOPX7r/drj7N2Ko+rNNJG+I",
      "include_colab_link": true
    },
    "kernelspec": {
      "name": "python3",
      "display_name": "Python 3"
    },
    "language_info": {
      "name": "python"
    }
  },
  "cells": [
    {
      "cell_type": "markdown",
      "metadata": {
        "id": "view-in-github",
        "colab_type": "text"
      },
      "source": [
        "<a href=\"https://colab.research.google.com/github/cnddlf/2022_1_Study_AI/blob/main/%EA%B5%B0%EC%A7%91%ED%99%94_%26_%ED%85%8D%EC%8A%A4%ED%8A%B8_%ED%81%B4%EB%A0%8C%EC%A7%95(0307).ipynb\" target=\"_parent\"><img src=\"https://colab.research.google.com/assets/colab-badge.svg\" alt=\"Open In Colab\"/></a>"
      ]
    },
    {
      "cell_type": "code",
      "execution_count": null,
      "metadata": {
        "id": "a4AwBUYXWdnl"
      },
      "outputs": [],
      "source": [
        "from sklearn.datasets import load_iris\n",
        "import pandas as pd\n",
        "\n",
        "iris = load_iris()\n",
        "feature_names = ['sepal_length','sepal_width','petal_length','petal_width']\n",
        "irisDF = pd.DataFrame(data=iris.data, columns=feature_names)"
      ]
    },
    {
      "cell_type": "code",
      "source": [
        "from sklearn.cluster import KMeans\n",
        "\n",
        "kmeans = KMeans(n_clusters=3, init='k-means++', max_iter=300,random_state=0).fit(irisDF)\n",
        "\n",
        "irisDF['cluster'] = kmeans.labels_"
      ],
      "metadata": {
        "id": "wGDz9ZxIWkIF"
      },
      "execution_count": null,
      "outputs": []
    },
    {
      "cell_type": "code",
      "source": [
        "# 실루엣 계수 확인\n",
        "from sklearn.metrics import silhouette_samples\n",
        "\n",
        "score_samples = silhouette_samples(iris.data, irisDF['cluster'])\n",
        "score_samples.shape"
      ],
      "metadata": {
        "colab": {
          "base_uri": "https://localhost:8080/"
        },
        "id": "kkHqZSuaXb_U",
        "outputId": "bca9f3da-4893-43d1-acf0-52f04caf11a3"
      },
      "execution_count": null,
      "outputs": [
        {
          "output_type": "execute_result",
          "data": {
            "text/plain": [
              "(150,)"
            ]
          },
          "metadata": {},
          "execution_count": 3
        }
      ]
    },
    {
      "cell_type": "code",
      "source": [
        "score_samples[:5]"
      ],
      "metadata": {
        "colab": {
          "base_uri": "https://localhost:8080/"
        },
        "id": "cnWdEp1gXwGJ",
        "outputId": "c668fce2-6d84-4b64-d154-be8964b10d2d"
      },
      "execution_count": null,
      "outputs": [
        {
          "output_type": "execute_result",
          "data": {
            "text/plain": [
              "array([0.85295506, 0.81549476, 0.8293151 , 0.80501395, 0.8493016 ])"
            ]
          },
          "metadata": {},
          "execution_count": 4
        }
      ]
    },
    {
      "cell_type": "code",
      "source": [
        "# irisDF에 실루엣 계수 컬럼 추가\n",
        "irisDF['silhouette_coeff'] = score_samples"
      ],
      "metadata": {
        "id": "E-kJjCk0X3e6"
      },
      "execution_count": null,
      "outputs": []
    },
    {
      "cell_type": "code",
      "source": [
        "# 평균 실루엣 계수 구하기\n",
        "from sklearn.metrics import silhouette_score\n",
        "avr_score = silhouette_score(iris.data, irisDF['cluster'])\n",
        "avr_score"
      ],
      "metadata": {
        "colab": {
          "base_uri": "https://localhost:8080/"
        },
        "id": "56sQelCSX-Ma",
        "outputId": "bb0cd8dd-85f0-456f-c994-429c59b084fd"
      },
      "execution_count": null,
      "outputs": [
        {
          "output_type": "execute_result",
          "data": {
            "text/plain": [
              "0.5528190123564095"
            ]
          },
          "metadata": {},
          "execution_count": 6
        }
      ]
    },
    {
      "cell_type": "code",
      "source": [
        "irisDF.groupby('cluster')['silhouette_coeff'].mean()"
      ],
      "metadata": {
        "colab": {
          "base_uri": "https://localhost:8080/"
        },
        "id": "NwlcGHl6YKMm",
        "outputId": "5b8bc873-a543-44d7-9039-ea9bb7ad0959"
      },
      "execution_count": null,
      "outputs": [
        {
          "output_type": "execute_result",
          "data": {
            "text/plain": [
              "cluster\n",
              "0    0.417320\n",
              "1    0.798140\n",
              "2    0.451105\n",
              "Name: silhouette_coeff, dtype: float64"
            ]
          },
          "metadata": {},
          "execution_count": 7
        }
      ]
    },
    {
      "cell_type": "markdown",
      "source": [
        "# 텍스트 클렌징"
      ],
      "metadata": {
        "id": "nFppgIASM15X"
      }
    },
    {
      "cell_type": "code",
      "source": [
        "# 텍스트 클렌징\n",
        "text = \"\"\"<div>\n",
        "<h1>Title</h1>\n",
        "<p>A long text........ </p>\n",
        "<a href=\"\"> a link </a>\n",
        "</div>\"\"\"\n",
        "\n",
        "text"
      ],
      "metadata": {
        "colab": {
          "base_uri": "https://localhost:8080/",
          "height": 35
        },
        "id": "2T93W7RwznrX",
        "outputId": "05e5a828-59d9-4915-f3be-c10c25e42af3"
      },
      "execution_count": null,
      "outputs": [
        {
          "output_type": "execute_result",
          "data": {
            "text/plain": [
              "'<div>\\n<h1>Title</h1>\\n<p>A long text........ </p>\\n<a href=\"\"> a link </a>\\n</div>'"
            ],
            "application/vnd.google.colaboratory.intrinsic+json": {
              "type": "string"
            }
          },
          "metadata": {},
          "execution_count": 8
        }
      ]
    },
    {
      "cell_type": "code",
      "source": [
        "import re\n",
        "\n",
        "cleaner = re.compile('<.*?>|&([a-z0-9]+|#[0-9]{1,6}|#x[0-9a-f]{1,6});')\n",
        "cleaner\n",
        "# sub(정규표현식, 변경할 데이터, 원본 데이터)\n",
        "re.sub(cleaner, '1111', '<div>hello</div>')"
      ],
      "metadata": {
        "colab": {
          "base_uri": "https://localhost:8080/",
          "height": 35
        },
        "id": "0BPwXDnoz9k3",
        "outputId": "eeae6d85-9885-4078-83c4-5a74a8f49cd0"
      },
      "execution_count": null,
      "outputs": [
        {
          "output_type": "execute_result",
          "data": {
            "text/plain": [
              "'1111hello1111'"
            ],
            "application/vnd.google.colaboratory.intrinsic+json": {
              "type": "string"
            }
          },
          "metadata": {},
          "execution_count": 9
        }
      ]
    },
    {
      "cell_type": "code",
      "source": [
        "re.sub(cleaner, '', text)"
      ],
      "metadata": {
        "colab": {
          "base_uri": "https://localhost:8080/",
          "height": 35
        },
        "id": "SQ3zKih208IP",
        "outputId": "fea22e22-12cd-4617-aa46-fedf0b247a92"
      },
      "execution_count": null,
      "outputs": [
        {
          "output_type": "execute_result",
          "data": {
            "text/plain": [
              "'\\nTitle\\nA long text........ \\n a link \\n'"
            ],
            "application/vnd.google.colaboratory.intrinsic+json": {
              "type": "string"
            }
          },
          "metadata": {},
          "execution_count": 10
        }
      ]
    },
    {
      "cell_type": "code",
      "source": [
        "import re\n",
        "\n",
        "def cleanhtml(raw_html):\n",
        "  cleaner = re.compile('<.*?>|&([a-z0-9]+|#[0-9]{1,6}|#x[0-9a-f]{1,6});')\n",
        "  cleantext = re.sub(cleaner, '', raw_html)\n",
        "  return cleantext\n",
        "\n",
        "txt = cleanhtml(text)\n",
        "txt"
      ],
      "metadata": {
        "colab": {
          "base_uri": "https://localhost:8080/",
          "height": 35
        },
        "id": "LLkHXapu0_wN",
        "outputId": "de0d15b0-bb81-44cd-ba1c-9056e1b4c5e9"
      },
      "execution_count": null,
      "outputs": [
        {
          "output_type": "execute_result",
          "data": {
            "text/plain": [
              "'\\nTitle\\nA long text........ \\n a link \\n'"
            ],
            "application/vnd.google.colaboratory.intrinsic+json": {
              "type": "string"
            }
          },
          "metadata": {},
          "execution_count": 11
        }
      ]
    },
    {
      "cell_type": "code",
      "source": [
        "import nltk\n",
        "nltk.download('punkt')"
      ],
      "metadata": {
        "colab": {
          "base_uri": "https://localhost:8080/"
        },
        "id": "wqlsvrNo2fxI",
        "outputId": "fb103aea-511a-4849-eddb-221ca7d764b0"
      },
      "execution_count": null,
      "outputs": [
        {
          "output_type": "stream",
          "name": "stderr",
          "text": [
            "[nltk_data] Downloading package punkt to /root/nltk_data...\n",
            "[nltk_data]   Unzipping tokenizers/punkt.zip.\n"
          ]
        },
        {
          "output_type": "execute_result",
          "data": {
            "text/plain": [
              "True"
            ]
          },
          "metadata": {},
          "execution_count": 12
        }
      ]
    },
    {
      "cell_type": "code",
      "source": [
        "from nltk import sent_tokenize\n",
        "text_sample = 'The Matrix is everywhere its all around us, here even in this room. \\\n",
        "               You can see it out your window or on your television. \\\n",
        "               You feel it when you go to work, or go to church or pay your taxes.'\n",
        "sentences = sent_tokenize(text=text_sample)\n",
        "sentences"
      ],
      "metadata": {
        "colab": {
          "base_uri": "https://localhost:8080/"
        },
        "id": "4yIGJXhH2tY5",
        "outputId": "a5394336-7b35-42e1-d5f9-0b1ed42493d5"
      },
      "execution_count": null,
      "outputs": [
        {
          "output_type": "execute_result",
          "data": {
            "text/plain": [
              "['The Matrix is everywhere its all around us, here even in this room.',\n",
              " 'You can see it out your window or on your television.',\n",
              " 'You feel it when you go to work, or go to church or pay your taxes.']"
            ]
          },
          "metadata": {},
          "execution_count": 13
        }
      ]
    },
    {
      "cell_type": "code",
      "source": [
        "from nltk import word_tokenize\n",
        "\n",
        "sentence = 'The Matrix is everywhere its all around us, here even in this room.'\n",
        "\n",
        "words = word_tokenize(sentence)\n",
        "words"
      ],
      "metadata": {
        "colab": {
          "base_uri": "https://localhost:8080/"
        },
        "id": "quD9yGXO3ZAQ",
        "outputId": "d7bedcc7-d043-4bf0-efe7-c1d8bd9a8130"
      },
      "execution_count": null,
      "outputs": [
        {
          "output_type": "execute_result",
          "data": {
            "text/plain": [
              "['The',\n",
              " 'Matrix',\n",
              " 'is',\n",
              " 'everywhere',\n",
              " 'its',\n",
              " 'all',\n",
              " 'around',\n",
              " 'us',\n",
              " ',',\n",
              " 'here',\n",
              " 'even',\n",
              " 'in',\n",
              " 'this',\n",
              " 'room',\n",
              " '.']"
            ]
          },
          "metadata": {},
          "execution_count": 14
        }
      ]
    },
    {
      "cell_type": "code",
      "source": [
        "# text_sample의 모든 내용을 단어로 토크링 하시오\n",
        "\n",
        "from nltk import word_tokenize\n",
        "\n",
        "text_sample = 'The Matrix is everywhere its all around us, here even in this room. \\\n",
        "               You can see it out your window or on your television. \\\n",
        "               You feel it when you go to work, or go to church or pay your taxes.'\n",
        "sentences = sent_tokenize(text = text_sample)\n",
        "words_lst = []\n",
        "for sentence in sentences:\n",
        "  words = word_tokenize(sentence)\n",
        "  words_lst.append(words)\n",
        "\n",
        "words_lst"
      ],
      "metadata": {
        "colab": {
          "base_uri": "https://localhost:8080/"
        },
        "id": "_OO4YlHT3tym",
        "outputId": "8e7eea5a-3f82-44f3-c3b8-0839b96ee781"
      },
      "execution_count": null,
      "outputs": [
        {
          "output_type": "execute_result",
          "data": {
            "text/plain": [
              "[['The',\n",
              "  'Matrix',\n",
              "  'is',\n",
              "  'everywhere',\n",
              "  'its',\n",
              "  'all',\n",
              "  'around',\n",
              "  'us',\n",
              "  ',',\n",
              "  'here',\n",
              "  'even',\n",
              "  'in',\n",
              "  'this',\n",
              "  'room',\n",
              "  '.'],\n",
              " ['You',\n",
              "  'can',\n",
              "  'see',\n",
              "  'it',\n",
              "  'out',\n",
              "  'your',\n",
              "  'window',\n",
              "  'or',\n",
              "  'on',\n",
              "  'your',\n",
              "  'television',\n",
              "  '.'],\n",
              " ['You',\n",
              "  'feel',\n",
              "  'it',\n",
              "  'when',\n",
              "  'you',\n",
              "  'go',\n",
              "  'to',\n",
              "  'work',\n",
              "  ',',\n",
              "  'or',\n",
              "  'go',\n",
              "  'to',\n",
              "  'church',\n",
              "  'or',\n",
              "  'pay',\n",
              "  'your',\n",
              "  'taxes',\n",
              "  '.']]"
            ]
          },
          "metadata": {},
          "execution_count": 15
        }
      ]
    },
    {
      "cell_type": "code",
      "source": [
        "sentences = sent_tokenize(text_sample)\n",
        "# 문장별 단어 토큰화\n",
        "word_tokens = [word_tokenize(sentence) for sentence in sentences]\n",
        "word_tokens"
      ],
      "metadata": {
        "colab": {
          "base_uri": "https://localhost:8080/"
        },
        "id": "5pvzs-wk6MwJ",
        "outputId": "0b0766f8-0cf6-436f-a823-889dcf657151"
      },
      "execution_count": null,
      "outputs": [
        {
          "output_type": "execute_result",
          "data": {
            "text/plain": [
              "[['The',\n",
              "  'Matrix',\n",
              "  'is',\n",
              "  'everywhere',\n",
              "  'its',\n",
              "  'all',\n",
              "  'around',\n",
              "  'us',\n",
              "  ',',\n",
              "  'here',\n",
              "  'even',\n",
              "  'in',\n",
              "  'this',\n",
              "  'room',\n",
              "  '.'],\n",
              " ['You',\n",
              "  'can',\n",
              "  'see',\n",
              "  'it',\n",
              "  'out',\n",
              "  'your',\n",
              "  'window',\n",
              "  'or',\n",
              "  'on',\n",
              "  'your',\n",
              "  'television',\n",
              "  '.'],\n",
              " ['You',\n",
              "  'feel',\n",
              "  'it',\n",
              "  'when',\n",
              "  'you',\n",
              "  'go',\n",
              "  'to',\n",
              "  'work',\n",
              "  ',',\n",
              "  'or',\n",
              "  'go',\n",
              "  'to',\n",
              "  'church',\n",
              "  'or',\n",
              "  'pay',\n",
              "  'your',\n",
              "  'taxes',\n",
              "  '.']]"
            ]
          },
          "metadata": {},
          "execution_count": 16
        }
      ]
    },
    {
      "cell_type": "code",
      "source": [
        "import nltk\n",
        "\n",
        "nltk.download('stopwords')"
      ],
      "metadata": {
        "colab": {
          "base_uri": "https://localhost:8080/"
        },
        "id": "ICK2qKaV-UWs",
        "outputId": "b6454dbe-7b6b-4a13-ceb2-c3580ed5e0c3"
      },
      "execution_count": null,
      "outputs": [
        {
          "output_type": "stream",
          "name": "stderr",
          "text": [
            "[nltk_data] Downloading package stopwords to /root/nltk_data...\n",
            "[nltk_data]   Unzipping corpora/stopwords.zip.\n"
          ]
        },
        {
          "output_type": "execute_result",
          "data": {
            "text/plain": [
              "True"
            ]
          },
          "metadata": {},
          "execution_count": 17
        }
      ]
    },
    {
      "cell_type": "code",
      "source": [
        "english_stopword = nltk.corpus.stopwords.words('english')\n",
        "len(english_stopword)\n",
        "english_stopword[:5]"
      ],
      "metadata": {
        "colab": {
          "base_uri": "https://localhost:8080/"
        },
        "id": "fg1T_4OK_LaW",
        "outputId": "47cce407-672b-429e-c3cd-d45874baf71f"
      },
      "execution_count": null,
      "outputs": [
        {
          "output_type": "execute_result",
          "data": {
            "text/plain": [
              "['i', 'me', 'my', 'myself', 'we']"
            ]
          },
          "metadata": {},
          "execution_count": 18
        }
      ]
    },
    {
      "cell_type": "code",
      "source": [
        "words = ['The', 'Matrix', 'is', 'everywhere', 'its', 'all', 'around', 'us', ',', 'here', 'even', 'in', 'this', 'room', '.']\n",
        "\n",
        "for w in words:\n",
        "  w = w.lower()\n",
        "  if w not in english_stopword:\n",
        "    print(w)"
      ],
      "metadata": {
        "colab": {
          "base_uri": "https://localhost:8080/"
        },
        "id": "vClf6dkt_7Eb",
        "outputId": "93d68e11-0ed1-4e7b-cf6b-6d3d735982d3"
      },
      "execution_count": null,
      "outputs": [
        {
          "output_type": "stream",
          "name": "stdout",
          "text": [
            "matrix\n",
            "everywhere\n",
            "around\n",
            "us\n",
            ",\n",
            "even\n",
            "room\n",
            ".\n"
          ]
        }
      ]
    },
    {
      "cell_type": "code",
      "source": [
        "from nltk.corpus import stopwords\n",
        "\n",
        "english_stopwords = stopwords.words('english')\n",
        "\n",
        "# stop word가 아닌 단어를 추출(별도의 변수에 저장)하시오\n",
        "text_sample = 'The Matrix is everywhere its all around us, here even in this room. \\\n",
        "               You can see it out your window or on your television. \\\n",
        "               You feel it when you go to work, or go to church or pay your taxes.'\n",
        "\n",
        "sentences =  sent_tokenize(text_sample)\n",
        "word_token=[]\n",
        "for sentence in sentences:\n",
        "  words = word_tokenize(sentence)\n",
        "  for w in words:\n",
        "    w = w.lower()\n",
        "    if w not in english_stopword:\n",
        "      word_token.append(w)\n",
        "\n",
        "word_token"
      ],
      "metadata": {
        "colab": {
          "base_uri": "https://localhost:8080/"
        },
        "id": "Z6PYj8RcAY1j",
        "outputId": "16207ea7-f93b-448e-b118-82561d2ba4b6"
      },
      "execution_count": null,
      "outputs": [
        {
          "output_type": "execute_result",
          "data": {
            "text/plain": [
              "['matrix',\n",
              " 'everywhere',\n",
              " 'around',\n",
              " 'us',\n",
              " ',',\n",
              " 'even',\n",
              " 'room',\n",
              " '.',\n",
              " 'see',\n",
              " 'window',\n",
              " 'television',\n",
              " '.',\n",
              " 'feel',\n",
              " 'go',\n",
              " 'work',\n",
              " ',',\n",
              " 'go',\n",
              " 'church',\n",
              " 'pay',\n",
              " 'taxes',\n",
              " '.']"
            ]
          },
          "metadata": {},
          "execution_count": 20
        }
      ]
    }
  ]
}