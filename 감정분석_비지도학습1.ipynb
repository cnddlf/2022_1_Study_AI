{
  "nbformat": 4,
  "nbformat_minor": 0,
  "metadata": {
    "colab": {
      "provenance": [],
      "collapsed_sections": [],
      "authorship_tag": "ABX9TyM0NO3t29DjQbANhlJjYvTM",
      "include_colab_link": true
    },
    "kernelspec": {
      "name": "python3",
      "display_name": "Python 3"
    },
    "language_info": {
      "name": "python"
    }
  },
  "cells": [
    {
      "cell_type": "markdown",
      "metadata": {
        "id": "view-in-github",
        "colab_type": "text"
      },
      "source": [
        "<a href=\"https://colab.research.google.com/github/cnddlf/2022_1_Study_AI/blob/main/%EA%B0%90%EC%A0%95%EB%B6%84%EC%84%9D_%EB%B9%84%EC%A7%80%EB%8F%84%ED%95%99%EC%8A%B51.ipynb\" target=\"_parent\"><img src=\"https://colab.research.google.com/assets/colab-badge.svg\" alt=\"Open In Colab\"/></a>"
      ]
    },
    {
      "cell_type": "code",
      "source": [
        "import nltk\n",
        "nltk.download('sentiwordnet')\n",
        "nltk.download('wordnet')\n",
        "nltk.download('omw-1.4')"
      ],
      "metadata": {
        "id": "WzRgC4KKLeIx",
        "outputId": "f0c80e41-2dea-4b85-95b8-ef275ca1a94a",
        "colab": {
          "base_uri": "https://localhost:8080/"
        }
      },
      "execution_count": null,
      "outputs": [
        {
          "output_type": "stream",
          "name": "stderr",
          "text": [
            "[nltk_data] Downloading package sentiwordnet to /root/nltk_data...\n",
            "[nltk_data]   Unzipping corpora/sentiwordnet.zip.\n",
            "[nltk_data] Downloading package wordnet to /root/nltk_data...\n",
            "[nltk_data] Downloading package omw-1.4 to /root/nltk_data...\n"
          ]
        },
        {
          "output_type": "execute_result",
          "data": {
            "text/plain": [
              "True"
            ]
          },
          "metadata": {},
          "execution_count": 1
        }
      ]
    },
    {
      "cell_type": "code",
      "execution_count": null,
      "metadata": {
        "id": "nMWxDHMELWQz",
        "outputId": "eb841928-7bea-467d-f175-3757b1f2acf9",
        "colab": {
          "base_uri": "https://localhost:8080/"
        }
      },
      "outputs": [
        {
          "output_type": "execute_result",
          "data": {
            "text/plain": [
              "[SentiSynset('decelerate.v.01'),\n",
              " SentiSynset('slow.v.02'),\n",
              " SentiSynset('slow.v.03'),\n",
              " SentiSynset('slow.a.01'),\n",
              " SentiSynset('slow.a.02'),\n",
              " SentiSynset('dense.s.04'),\n",
              " SentiSynset('slow.a.04'),\n",
              " SentiSynset('boring.s.01'),\n",
              " SentiSynset('dull.s.08'),\n",
              " SentiSynset('slowly.r.01'),\n",
              " SentiSynset('behind.r.03')]"
            ]
          },
          "metadata": {},
          "execution_count": 2
        }
      ],
      "source": [
        "from nltk.corpus import sentiwordnet as swn\n",
        "\n",
        "senti_synsets = list(swn.senti_synsets('slow'))\n",
        "senti_synsets"
      ]
    },
    {
      "cell_type": "code",
      "source": [
        "# father\n",
        "father_synsets = list(swn.senti_synsets('father'))\n",
        "father_synsets"
      ],
      "metadata": {
        "id": "On6RW-FpM0Gw",
        "colab": {
          "base_uri": "https://localhost:8080/"
        },
        "outputId": "ae7bba17-5013-4170-e339-1081bdf7fe9a"
      },
      "execution_count": null,
      "outputs": [
        {
          "output_type": "execute_result",
          "data": {
            "text/plain": [
              "[SentiSynset('father.n.01'),\n",
              " SentiSynset('forefather.n.01'),\n",
              " SentiSynset('father.n.03'),\n",
              " SentiSynset('church_father.n.01'),\n",
              " SentiSynset('father.n.05'),\n",
              " SentiSynset('father.n.06'),\n",
              " SentiSynset('founder.n.02'),\n",
              " SentiSynset('don.n.03'),\n",
              " SentiSynset('beget.v.01')]"
            ]
          },
          "metadata": {},
          "execution_count": 3
        }
      ]
    },
    {
      "cell_type": "code",
      "source": [
        "father = father_synsets[0]\n",
        "father"
      ],
      "metadata": {
        "id": "Dcd_M7ZjNDAy",
        "colab": {
          "base_uri": "https://localhost:8080/"
        },
        "outputId": "da1f9bc0-7e4c-4eec-df78-b2ec1c7cf643"
      },
      "execution_count": null,
      "outputs": [
        {
          "output_type": "execute_result",
          "data": {
            "text/plain": [
              "SentiSynset('father.n.01')"
            ]
          },
          "metadata": {},
          "execution_count": 4
        }
      ]
    },
    {
      "cell_type": "code",
      "source": [
        "# 긍정\n",
        "father.pos_score()\n",
        "# 부정\n",
        "father.neg_score()\n",
        "# 객관성\n",
        "father.obj_score()"
      ],
      "metadata": {
        "colab": {
          "base_uri": "https://localhost:8080/"
        },
        "id": "mACkSAJQNWKl",
        "outputId": "548882f2-2245-4d5b-b9ff-8ae7f196efab"
      },
      "execution_count": null,
      "outputs": [
        {
          "output_type": "execute_result",
          "data": {
            "text/plain": [
              "1.0"
            ]
          },
          "metadata": {},
          "execution_count": 5
        }
      ]
    },
    {
      "cell_type": "code",
      "source": [
        "# fabulous의 첫번째 값에 대한 긍정, 부정, 객관성 지수 출력\n",
        "fabulous_synsets = list(swn.senti_synsets('fabulous'))\n",
        "fabulous_synsets"
      ],
      "metadata": {
        "id": "cZoaBQC3NtEF",
        "colab": {
          "base_uri": "https://localhost:8080/"
        },
        "outputId": "c0ca253a-ca09-4174-9912-91988c5952f2"
      },
      "execution_count": null,
      "outputs": [
        {
          "output_type": "execute_result",
          "data": {
            "text/plain": [
              "[SentiSynset('fabulous.s.01'),\n",
              " SentiSynset('fabulous.s.02'),\n",
              " SentiSynset('fabulous.s.03')]"
            ]
          },
          "metadata": {},
          "execution_count": 6
        }
      ]
    },
    {
      "cell_type": "code",
      "source": [
        "fabulous = fabulous_synsets[0]\n",
        "fabulous"
      ],
      "metadata": {
        "id": "xGTwQOPFPAxA",
        "colab": {
          "base_uri": "https://localhost:8080/"
        },
        "outputId": "c450588d-c3a1-4493-9ea1-95b7b2c7917b"
      },
      "execution_count": null,
      "outputs": [
        {
          "output_type": "execute_result",
          "data": {
            "text/plain": [
              "SentiSynset('fabulous.s.01')"
            ]
          },
          "metadata": {},
          "execution_count": 7
        }
      ]
    },
    {
      "cell_type": "code",
      "source": [
        "fabulous.pos_score()\n",
        "fabulous.neg_score()\n",
        "fabulous.obj_score()"
      ],
      "metadata": {
        "id": "eguIiJX9PQmI",
        "colab": {
          "base_uri": "https://localhost:8080/"
        },
        "outputId": "8d29e3df-ba2a-4fce-b52b-c35055b7a9bf"
      },
      "execution_count": null,
      "outputs": [
        {
          "output_type": "execute_result",
          "data": {
            "text/plain": [
              "0.0"
            ]
          },
          "metadata": {},
          "execution_count": 8
        }
      ]
    },
    {
      "cell_type": "code",
      "source": [
        "import nltk\n",
        "nltk.download('punkt')"
      ],
      "metadata": {
        "id": "ZCFPFJ3tSz1K",
        "colab": {
          "base_uri": "https://localhost:8080/"
        },
        "outputId": "cfc5fa83-fe30-4fb4-b83f-e087ed30136f"
      },
      "execution_count": null,
      "outputs": [
        {
          "output_type": "stream",
          "name": "stderr",
          "text": [
            "[nltk_data] Downloading package punkt to /root/nltk_data...\n",
            "[nltk_data]   Unzipping tokenizers/punkt.zip.\n"
          ]
        },
        {
          "output_type": "execute_result",
          "data": {
            "text/plain": [
              "True"
            ]
          },
          "metadata": {},
          "execution_count": 9
        }
      ]
    },
    {
      "cell_type": "code",
      "source": [
        "# 아래 내용을 문장별, 단어별로 구분하시오(Tokenize)\n",
        "from nltk import sent_tokenize\n",
        "text=\"With all this stuff going down at the moment with MJ i've started listening to his music, watching the odd documentary here and there, watched The Wiz and watched Moonwalker again. Maybe i just want to get a certain insight into this guy who i thought was really cool in the eighties just to maybe make up my mind whether he is guilty or innocent. Moonwalker is part biography, part feature film which i remember going to see at the cinema when it was originally released. Some of it has subtle messages about MJ's feeling towards the press and also the obvious message of drugs are bad m'kay.<br /><br />Visually impressive but of course this is all about Michael Jackson so unless you remotely like MJ in anyway then you are going to hate this and find it boring. Some may call MJ an egotist for consenting to the making of this movie BUT MJ and most of his fans would say that he made it for the fans which if true is really nice of him.<br /><br />The actual feature film bit when it finally starts is only on for 20 minutes or so excluding the Smooth Criminal sequence and Joe Pesci is convincing as a psychopathic all powerful drug lord. Why he wants MJ dead so bad is beyond me. Because MJ overheard his plans? Nah, Joe Pesci's character ranted that he wanted people to know it is he who is supplying drugs etc so i dunno, maybe he just hates MJ's music.<br /><br />Lots of cool things in this like MJ turning into a car and a robot and the whole Speed Demon sequence. Also, the director must have had the patience of a saint when it came to filming the kiddy Bad sequence as usually directors hate working with one kid let alone a whole bunch of them performing a complex dance scene.<br /><br />Bottom line, this movie is for people who like MJ on one level or another (which i think is most people). If not, then stay away. It does try and give off a wholesome message and ironically MJ's bestest buddy in this movie is a girl! Michael Jackson is truly one of the most talented people ever to grace this planet but is he guilty? Well, with all the attention i've gave this subject....hmmm well i don't know because people can be different behind closed doors, i know this for a fact. He is either an extremely nice but stupid guy or one of the most sickest liars. I hope he is not the latter.\";\n",
        "\n",
        "sentences = sent_tokenize(text)\n",
        "sentences"
      ],
      "metadata": {
        "colab": {
          "base_uri": "https://localhost:8080/"
        },
        "id": "bTNd4PvXP1vZ",
        "outputId": "4518b7d7-238c-481e-d4d0-bcec37819264"
      },
      "execution_count": null,
      "outputs": [
        {
          "output_type": "execute_result",
          "data": {
            "text/plain": [
              "[\"With all this stuff going down at the moment with MJ i've started listening to his music, watching the odd documentary here and there, watched The Wiz and watched Moonwalker again.\",\n",
              " 'Maybe i just want to get a certain insight into this guy who i thought was really cool in the eighties just to maybe make up my mind whether he is guilty or innocent.',\n",
              " 'Moonwalker is part biography, part feature film which i remember going to see at the cinema when it was originally released.',\n",
              " \"Some of it has subtle messages about MJ's feeling towards the press and also the obvious message of drugs are bad m'kay.<br /><br />Visually impressive but of course this is all about Michael Jackson so unless you remotely like MJ in anyway then you are going to hate this and find it boring.\",\n",
              " 'Some may call MJ an egotist for consenting to the making of this movie BUT MJ and most of his fans would say that he made it for the fans which if true is really nice of him.<br /><br />The actual feature film bit when it finally starts is only on for 20 minutes or so excluding the Smooth Criminal sequence and Joe Pesci is convincing as a psychopathic all powerful drug lord.',\n",
              " 'Why he wants MJ dead so bad is beyond me.',\n",
              " 'Because MJ overheard his plans?',\n",
              " \"Nah, Joe Pesci's character ranted that he wanted people to know it is he who is supplying drugs etc so i dunno, maybe he just hates MJ's music.<br /><br />Lots of cool things in this like MJ turning into a car and a robot and the whole Speed Demon sequence.\",\n",
              " 'Also, the director must have had the patience of a saint when it came to filming the kiddy Bad sequence as usually directors hate working with one kid let alone a whole bunch of them performing a complex dance scene.<br /><br />Bottom line, this movie is for people who like MJ on one level or another (which i think is most people).',\n",
              " 'If not, then stay away.',\n",
              " \"It does try and give off a wholesome message and ironically MJ's bestest buddy in this movie is a girl!\",\n",
              " 'Michael Jackson is truly one of the most talented people ever to grace this planet but is he guilty?',\n",
              " \"Well, with all the attention i've gave this subject....hmmm well i don't know because people can be different behind closed doors, i know this for a fact.\",\n",
              " 'He is either an extremely nice but stupid guy or one of the most sickest liars.',\n",
              " 'I hope he is not the latter.']"
            ]
          },
          "metadata": {},
          "execution_count": 10
        }
      ]
    },
    {
      "cell_type": "code",
      "source": [
        "from nltk import word_tokenize\n",
        "word_lst=[]\n",
        "for sentence in sentences:\n",
        "  words = word_tokenize(sentence)\n",
        "  word_lst.append(words)\n",
        "\n",
        "word_lst"
      ],
      "metadata": {
        "id": "I8okC0xNS9Dm",
        "colab": {
          "base_uri": "https://localhost:8080/"
        },
        "outputId": "a644399d-2159-4ae7-d994-8b233dcf885e"
      },
      "execution_count": null,
      "outputs": [
        {
          "output_type": "execute_result",
          "data": {
            "text/plain": [
              "[['With',\n",
              "  'all',\n",
              "  'this',\n",
              "  'stuff',\n",
              "  'going',\n",
              "  'down',\n",
              "  'at',\n",
              "  'the',\n",
              "  'moment',\n",
              "  'with',\n",
              "  'MJ',\n",
              "  'i',\n",
              "  \"'ve\",\n",
              "  'started',\n",
              "  'listening',\n",
              "  'to',\n",
              "  'his',\n",
              "  'music',\n",
              "  ',',\n",
              "  'watching',\n",
              "  'the',\n",
              "  'odd',\n",
              "  'documentary',\n",
              "  'here',\n",
              "  'and',\n",
              "  'there',\n",
              "  ',',\n",
              "  'watched',\n",
              "  'The',\n",
              "  'Wiz',\n",
              "  'and',\n",
              "  'watched',\n",
              "  'Moonwalker',\n",
              "  'again',\n",
              "  '.'],\n",
              " ['Maybe',\n",
              "  'i',\n",
              "  'just',\n",
              "  'want',\n",
              "  'to',\n",
              "  'get',\n",
              "  'a',\n",
              "  'certain',\n",
              "  'insight',\n",
              "  'into',\n",
              "  'this',\n",
              "  'guy',\n",
              "  'who',\n",
              "  'i',\n",
              "  'thought',\n",
              "  'was',\n",
              "  'really',\n",
              "  'cool',\n",
              "  'in',\n",
              "  'the',\n",
              "  'eighties',\n",
              "  'just',\n",
              "  'to',\n",
              "  'maybe',\n",
              "  'make',\n",
              "  'up',\n",
              "  'my',\n",
              "  'mind',\n",
              "  'whether',\n",
              "  'he',\n",
              "  'is',\n",
              "  'guilty',\n",
              "  'or',\n",
              "  'innocent',\n",
              "  '.'],\n",
              " ['Moonwalker',\n",
              "  'is',\n",
              "  'part',\n",
              "  'biography',\n",
              "  ',',\n",
              "  'part',\n",
              "  'feature',\n",
              "  'film',\n",
              "  'which',\n",
              "  'i',\n",
              "  'remember',\n",
              "  'going',\n",
              "  'to',\n",
              "  'see',\n",
              "  'at',\n",
              "  'the',\n",
              "  'cinema',\n",
              "  'when',\n",
              "  'it',\n",
              "  'was',\n",
              "  'originally',\n",
              "  'released',\n",
              "  '.'],\n",
              " ['Some',\n",
              "  'of',\n",
              "  'it',\n",
              "  'has',\n",
              "  'subtle',\n",
              "  'messages',\n",
              "  'about',\n",
              "  'MJ',\n",
              "  \"'s\",\n",
              "  'feeling',\n",
              "  'towards',\n",
              "  'the',\n",
              "  'press',\n",
              "  'and',\n",
              "  'also',\n",
              "  'the',\n",
              "  'obvious',\n",
              "  'message',\n",
              "  'of',\n",
              "  'drugs',\n",
              "  'are',\n",
              "  'bad',\n",
              "  \"m'kay.\",\n",
              "  '<',\n",
              "  'br',\n",
              "  '/',\n",
              "  '>',\n",
              "  '<',\n",
              "  'br',\n",
              "  '/',\n",
              "  '>',\n",
              "  'Visually',\n",
              "  'impressive',\n",
              "  'but',\n",
              "  'of',\n",
              "  'course',\n",
              "  'this',\n",
              "  'is',\n",
              "  'all',\n",
              "  'about',\n",
              "  'Michael',\n",
              "  'Jackson',\n",
              "  'so',\n",
              "  'unless',\n",
              "  'you',\n",
              "  'remotely',\n",
              "  'like',\n",
              "  'MJ',\n",
              "  'in',\n",
              "  'anyway',\n",
              "  'then',\n",
              "  'you',\n",
              "  'are',\n",
              "  'going',\n",
              "  'to',\n",
              "  'hate',\n",
              "  'this',\n",
              "  'and',\n",
              "  'find',\n",
              "  'it',\n",
              "  'boring',\n",
              "  '.'],\n",
              " ['Some',\n",
              "  'may',\n",
              "  'call',\n",
              "  'MJ',\n",
              "  'an',\n",
              "  'egotist',\n",
              "  'for',\n",
              "  'consenting',\n",
              "  'to',\n",
              "  'the',\n",
              "  'making',\n",
              "  'of',\n",
              "  'this',\n",
              "  'movie',\n",
              "  'BUT',\n",
              "  'MJ',\n",
              "  'and',\n",
              "  'most',\n",
              "  'of',\n",
              "  'his',\n",
              "  'fans',\n",
              "  'would',\n",
              "  'say',\n",
              "  'that',\n",
              "  'he',\n",
              "  'made',\n",
              "  'it',\n",
              "  'for',\n",
              "  'the',\n",
              "  'fans',\n",
              "  'which',\n",
              "  'if',\n",
              "  'true',\n",
              "  'is',\n",
              "  'really',\n",
              "  'nice',\n",
              "  'of',\n",
              "  'him.',\n",
              "  '<',\n",
              "  'br',\n",
              "  '/',\n",
              "  '>',\n",
              "  '<',\n",
              "  'br',\n",
              "  '/',\n",
              "  '>',\n",
              "  'The',\n",
              "  'actual',\n",
              "  'feature',\n",
              "  'film',\n",
              "  'bit',\n",
              "  'when',\n",
              "  'it',\n",
              "  'finally',\n",
              "  'starts',\n",
              "  'is',\n",
              "  'only',\n",
              "  'on',\n",
              "  'for',\n",
              "  '20',\n",
              "  'minutes',\n",
              "  'or',\n",
              "  'so',\n",
              "  'excluding',\n",
              "  'the',\n",
              "  'Smooth',\n",
              "  'Criminal',\n",
              "  'sequence',\n",
              "  'and',\n",
              "  'Joe',\n",
              "  'Pesci',\n",
              "  'is',\n",
              "  'convincing',\n",
              "  'as',\n",
              "  'a',\n",
              "  'psychopathic',\n",
              "  'all',\n",
              "  'powerful',\n",
              "  'drug',\n",
              "  'lord',\n",
              "  '.'],\n",
              " ['Why', 'he', 'wants', 'MJ', 'dead', 'so', 'bad', 'is', 'beyond', 'me', '.'],\n",
              " ['Because', 'MJ', 'overheard', 'his', 'plans', '?'],\n",
              " ['Nah',\n",
              "  ',',\n",
              "  'Joe',\n",
              "  'Pesci',\n",
              "  \"'s\",\n",
              "  'character',\n",
              "  'ranted',\n",
              "  'that',\n",
              "  'he',\n",
              "  'wanted',\n",
              "  'people',\n",
              "  'to',\n",
              "  'know',\n",
              "  'it',\n",
              "  'is',\n",
              "  'he',\n",
              "  'who',\n",
              "  'is',\n",
              "  'supplying',\n",
              "  'drugs',\n",
              "  'etc',\n",
              "  'so',\n",
              "  'i',\n",
              "  'dunno',\n",
              "  ',',\n",
              "  'maybe',\n",
              "  'he',\n",
              "  'just',\n",
              "  'hates',\n",
              "  'MJ',\n",
              "  \"'s\",\n",
              "  'music.',\n",
              "  '<',\n",
              "  'br',\n",
              "  '/',\n",
              "  '>',\n",
              "  '<',\n",
              "  'br',\n",
              "  '/',\n",
              "  '>',\n",
              "  'Lots',\n",
              "  'of',\n",
              "  'cool',\n",
              "  'things',\n",
              "  'in',\n",
              "  'this',\n",
              "  'like',\n",
              "  'MJ',\n",
              "  'turning',\n",
              "  'into',\n",
              "  'a',\n",
              "  'car',\n",
              "  'and',\n",
              "  'a',\n",
              "  'robot',\n",
              "  'and',\n",
              "  'the',\n",
              "  'whole',\n",
              "  'Speed',\n",
              "  'Demon',\n",
              "  'sequence',\n",
              "  '.'],\n",
              " ['Also',\n",
              "  ',',\n",
              "  'the',\n",
              "  'director',\n",
              "  'must',\n",
              "  'have',\n",
              "  'had',\n",
              "  'the',\n",
              "  'patience',\n",
              "  'of',\n",
              "  'a',\n",
              "  'saint',\n",
              "  'when',\n",
              "  'it',\n",
              "  'came',\n",
              "  'to',\n",
              "  'filming',\n",
              "  'the',\n",
              "  'kiddy',\n",
              "  'Bad',\n",
              "  'sequence',\n",
              "  'as',\n",
              "  'usually',\n",
              "  'directors',\n",
              "  'hate',\n",
              "  'working',\n",
              "  'with',\n",
              "  'one',\n",
              "  'kid',\n",
              "  'let',\n",
              "  'alone',\n",
              "  'a',\n",
              "  'whole',\n",
              "  'bunch',\n",
              "  'of',\n",
              "  'them',\n",
              "  'performing',\n",
              "  'a',\n",
              "  'complex',\n",
              "  'dance',\n",
              "  'scene.',\n",
              "  '<',\n",
              "  'br',\n",
              "  '/',\n",
              "  '>',\n",
              "  '<',\n",
              "  'br',\n",
              "  '/',\n",
              "  '>',\n",
              "  'Bottom',\n",
              "  'line',\n",
              "  ',',\n",
              "  'this',\n",
              "  'movie',\n",
              "  'is',\n",
              "  'for',\n",
              "  'people',\n",
              "  'who',\n",
              "  'like',\n",
              "  'MJ',\n",
              "  'on',\n",
              "  'one',\n",
              "  'level',\n",
              "  'or',\n",
              "  'another',\n",
              "  '(',\n",
              "  'which',\n",
              "  'i',\n",
              "  'think',\n",
              "  'is',\n",
              "  'most',\n",
              "  'people',\n",
              "  ')',\n",
              "  '.'],\n",
              " ['If', 'not', ',', 'then', 'stay', 'away', '.'],\n",
              " ['It',\n",
              "  'does',\n",
              "  'try',\n",
              "  'and',\n",
              "  'give',\n",
              "  'off',\n",
              "  'a',\n",
              "  'wholesome',\n",
              "  'message',\n",
              "  'and',\n",
              "  'ironically',\n",
              "  'MJ',\n",
              "  \"'s\",\n",
              "  'bestest',\n",
              "  'buddy',\n",
              "  'in',\n",
              "  'this',\n",
              "  'movie',\n",
              "  'is',\n",
              "  'a',\n",
              "  'girl',\n",
              "  '!'],\n",
              " ['Michael',\n",
              "  'Jackson',\n",
              "  'is',\n",
              "  'truly',\n",
              "  'one',\n",
              "  'of',\n",
              "  'the',\n",
              "  'most',\n",
              "  'talented',\n",
              "  'people',\n",
              "  'ever',\n",
              "  'to',\n",
              "  'grace',\n",
              "  'this',\n",
              "  'planet',\n",
              "  'but',\n",
              "  'is',\n",
              "  'he',\n",
              "  'guilty',\n",
              "  '?'],\n",
              " ['Well',\n",
              "  ',',\n",
              "  'with',\n",
              "  'all',\n",
              "  'the',\n",
              "  'attention',\n",
              "  'i',\n",
              "  \"'ve\",\n",
              "  'gave',\n",
              "  'this',\n",
              "  'subject',\n",
              "  '....',\n",
              "  'hmmm',\n",
              "  'well',\n",
              "  'i',\n",
              "  'do',\n",
              "  \"n't\",\n",
              "  'know',\n",
              "  'because',\n",
              "  'people',\n",
              "  'can',\n",
              "  'be',\n",
              "  'different',\n",
              "  'behind',\n",
              "  'closed',\n",
              "  'doors',\n",
              "  ',',\n",
              "  'i',\n",
              "  'know',\n",
              "  'this',\n",
              "  'for',\n",
              "  'a',\n",
              "  'fact',\n",
              "  '.'],\n",
              " ['He',\n",
              "  'is',\n",
              "  'either',\n",
              "  'an',\n",
              "  'extremely',\n",
              "  'nice',\n",
              "  'but',\n",
              "  'stupid',\n",
              "  'guy',\n",
              "  'or',\n",
              "  'one',\n",
              "  'of',\n",
              "  'the',\n",
              "  'most',\n",
              "  'sickest',\n",
              "  'liars',\n",
              "  '.'],\n",
              " ['I', 'hope', 'he', 'is', 'not', 'the', 'latter', '.']]"
            ]
          },
          "metadata": {},
          "execution_count": 11
        }
      ]
    },
    {
      "cell_type": "code",
      "source": [
        "import nltk\n",
        "nltk.download('averaged_perceptron_tagger')"
      ],
      "metadata": {
        "id": "4OFobH2IW_xw",
        "colab": {
          "base_uri": "https://localhost:8080/"
        },
        "outputId": "15256ba2-5204-45cd-9bd4-6740e005edab"
      },
      "execution_count": null,
      "outputs": [
        {
          "output_type": "stream",
          "name": "stderr",
          "text": [
            "[nltk_data] Downloading package averaged_perceptron_tagger to\n",
            "[nltk_data]     /root/nltk_data...\n",
            "[nltk_data]   Unzipping taggers/averaged_perceptron_tagger.zip.\n"
          ]
        },
        {
          "output_type": "execute_result",
          "data": {
            "text/plain": [
              "True"
            ]
          },
          "metadata": {},
          "execution_count": 12
        }
      ]
    },
    {
      "cell_type": "code",
      "source": [
        "from nltk import pos_tag\n",
        "\n",
        "tagged_words = pos_tag(word_lst[0])\n",
        "tagged_words"
      ],
      "metadata": {
        "id": "LCPfXD-LWoi3",
        "colab": {
          "base_uri": "https://localhost:8080/"
        },
        "outputId": "01b0131a-5773-4064-9fa2-ec2447ec6fb0"
      },
      "execution_count": null,
      "outputs": [
        {
          "output_type": "execute_result",
          "data": {
            "text/plain": [
              "[('With', 'IN'),\n",
              " ('all', 'PDT'),\n",
              " ('this', 'DT'),\n",
              " ('stuff', 'NN'),\n",
              " ('going', 'VBG'),\n",
              " ('down', 'RP'),\n",
              " ('at', 'IN'),\n",
              " ('the', 'DT'),\n",
              " ('moment', 'NN'),\n",
              " ('with', 'IN'),\n",
              " ('MJ', 'NNP'),\n",
              " ('i', 'NN'),\n",
              " (\"'ve\", 'VBP'),\n",
              " ('started', 'VBN'),\n",
              " ('listening', 'VBG'),\n",
              " ('to', 'TO'),\n",
              " ('his', 'PRP$'),\n",
              " ('music', 'NN'),\n",
              " (',', ','),\n",
              " ('watching', 'VBG'),\n",
              " ('the', 'DT'),\n",
              " ('odd', 'JJ'),\n",
              " ('documentary', 'NN'),\n",
              " ('here', 'RB'),\n",
              " ('and', 'CC'),\n",
              " ('there', 'RB'),\n",
              " (',', ','),\n",
              " ('watched', 'VBD'),\n",
              " ('The', 'DT'),\n",
              " ('Wiz', 'NNP'),\n",
              " ('and', 'CC'),\n",
              " ('watched', 'VBD'),\n",
              " ('Moonwalker', 'NNP'),\n",
              " ('again', 'RB'),\n",
              " ('.', '.')]"
            ]
          },
          "metadata": {},
          "execution_count": 13
        }
      ]
    },
    {
      "cell_type": "code",
      "source": [
        "for word, tag in tagged_words:\n",
        "  # print(word, ' : ', tag)\n",
        "  if tag.startswith('V'):\n",
        "    print(word, ' : ', tag)"
      ],
      "metadata": {
        "id": "KmzagxBuXSec",
        "colab": {
          "base_uri": "https://localhost:8080/"
        },
        "outputId": "9cdf9824-20bb-49d4-d3e0-ae7108e03ae2"
      },
      "execution_count": null,
      "outputs": [
        {
          "output_type": "stream",
          "name": "stdout",
          "text": [
            "going  :  VBG\n",
            "'ve  :  VBP\n",
            "started  :  VBN\n",
            "listening  :  VBG\n",
            "watching  :  VBG\n",
            "watched  :  VBD\n",
            "watched  :  VBD\n"
          ]
        }
      ]
    },
    {
      "cell_type": "code",
      "source": [
        "from nltk.corpus import wordnet as wn\n",
        "\n",
        "def penn_to_wn(tag):\n",
        "  if tag.startswith('J'):\n",
        "    return wn.ADJ\n",
        "  if tag.startswith('N'):\n",
        "    return wn.NOUN\n",
        "  if tag.startswith('R'):\n",
        "    return wn.ADV\n",
        "  if tag.startswith('V'):\n",
        "    return wn.VERB\n",
        "  return"
      ],
      "metadata": {
        "id": "Gm5qhhQ-YqU7"
      },
      "execution_count": null,
      "outputs": []
    },
    {
      "cell_type": "code",
      "source": [
        "for word, tag in tagged_words:\n",
        "  wn_tag = penn_to_wn(tag)\n",
        "\n",
        "  if wn_tag not in (wn.ADJ, wn.NOUN, wn.ADV, wn.VERB):\n",
        "    continue\n",
        "\n",
        "  print(word, ' : ', tag)"
      ],
      "metadata": {
        "id": "B_79KhWvZYcb",
        "colab": {
          "base_uri": "https://localhost:8080/"
        },
        "outputId": "5715ac94-f0df-4919-a297-21ffdcb719c3"
      },
      "execution_count": null,
      "outputs": [
        {
          "output_type": "stream",
          "name": "stdout",
          "text": [
            "stuff  :  NN\n",
            "going  :  VBG\n",
            "down  :  RP\n",
            "moment  :  NN\n",
            "MJ  :  NNP\n",
            "i  :  NN\n",
            "'ve  :  VBP\n",
            "started  :  VBN\n",
            "listening  :  VBG\n",
            "music  :  NN\n",
            "watching  :  VBG\n",
            "odd  :  JJ\n",
            "documentary  :  NN\n",
            "here  :  RB\n",
            "there  :  RB\n",
            "watched  :  VBD\n",
            "Wiz  :  NNP\n",
            "watched  :  VBD\n",
            "Moonwalker  :  NNP\n",
            "again  :  RB\n"
          ]
        }
      ]
    },
    {
      "cell_type": "code",
      "source": [
        "from nltk.stem import WordNetLemmatizer\n",
        "\n",
        "lemmatizer = WordNetLemmatizer()\n",
        "sum = 0\n",
        "for word, tag in tagged_words:\n",
        "  wn_tag = penn_to_wn(tag)\n",
        "\n",
        "  if wn_tag not in (wn.ADJ, wn.NOUN, wn.ADV, wn.VERB):\n",
        "    continue\n",
        "  lemma = lemmatizer.lemmatize(word, pos=wn_tag)\n",
        "\n",
        "  word_synsets = wn.synsets(lemma, pos=wn_tag)\n",
        "  if not word_synsets:\n",
        "    continue\n",
        "  # print(word_synsets[0])\n",
        "  # print(word, ' : ', tag, ' : ', lemma, ' : ', word_synsets[0])\n",
        "  # print(word_synsets[0].name())\n",
        "  swn_synset = swn.senti_synset(word_synsets[0].name())\n",
        "  # print(swn_synset, ' : ', swn_synset.pos_score(), ' : ', swn_synset.neg_score(), ' : ', swn_synset.obj_score())\n",
        "  # print(swn_synset.pos_score() - swn_synset.neg_score())\n",
        "  sum += (swn_synset.pos_score() - swn_synset.neg_score())\n",
        "\n",
        "sum"
      ],
      "metadata": {
        "colab": {
          "base_uri": "https://localhost:8080/"
        },
        "id": "4P7DTwh-b8GF",
        "outputId": "714fed07-c97c-40a6-a6de-ca1c62b4ad8f"
      },
      "execution_count": null,
      "outputs": [
        {
          "output_type": "execute_result",
          "data": {
            "text/plain": [
              "0.5"
            ]
          },
          "metadata": {},
          "execution_count": 17
        }
      ]
    },
    {
      "cell_type": "code",
      "source": [
        "# sentences가 가지고 있는 각각의 문장들에 대한 긍정 부정 점수를 출력하세요\n",
        "from nltk.stem import WordNetLemmatizer\n",
        "\n",
        "def get_words_senti_score(words):\n",
        "  lemmatizer = WordNetLemmatizer()\n",
        "  senti_score = 0\n",
        "  tagged_words = pos_tag(words)\n",
        "  for word, tag in tagged_words:\n",
        "    wn_tag = penn_to_wn(tag)\n",
        "\n",
        "    if wn_tag not in (wn.ADJ, wn.NOUN, wn.ADV, wn.VERB):\n",
        "      continue\n",
        "    lemma = lemmatizer.lemmatize(word, pos=wn_tag)\n",
        "\n",
        "    word_synsets = wn.synsets(lemma, pos=wn_tag)\n",
        "    if not word_synsets:\n",
        "      continue\n",
        "    \n",
        "    swn_synset = swn.senti_synset(word_synsets[0].name())\n",
        "    senti_score += (swn_synset.pos_score() - swn_synset.neg_score())\n",
        "\n",
        "  return senti_score"
      ],
      "metadata": {
        "id": "QZh3j5yOgDE8"
      },
      "execution_count": null,
      "outputs": []
    },
    {
      "cell_type": "code",
      "source": [
        "for words in word_lst:\n",
        "  senti_score = get_words_senti_score(words)\n",
        "  print(senti_score)"
      ],
      "metadata": {
        "colab": {
          "base_uri": "https://localhost:8080/"
        },
        "id": "Dc8_8ObDmkdQ",
        "outputId": "eafb2035-f8e9-4852-c9d5-828ee0deafaf"
      },
      "execution_count": null,
      "outputs": [
        {
          "output_type": "stream",
          "name": "stdout",
          "text": [
            "0.5\n",
            "0.875\n",
            "0.375\n",
            "0.0\n",
            "1.5\n",
            "-1.0\n",
            "-0.125\n",
            "0.012999999999999956\n",
            "-0.375\n",
            "-0.625\n",
            "0.875\n",
            "0.875\n",
            "0.875\n",
            "-0.375\n",
            "-0.5\n"
          ]
        }
      ]
    },
    {
      "cell_type": "code",
      "source": [
        "# 모든 문장들의 감성 점수를 합하여 0보다 크면 긍정인 1을 반환하고 0보다 작으면 부정인 0을 반환하는 함수를 만드시오\n",
        "def get_sent_senti_score(word_lst):\n",
        "  sum_senti_score = 0\n",
        "  for words in word_lst:\n",
        "    senti_score = get_words_senti_score(words)\n",
        "    sum_senti_score += senti_score\n",
        "\n",
        "  if sum_senti_score >0:\n",
        "    return 1\n",
        "  \n",
        "  return 0"
      ],
      "metadata": {
        "id": "waUNe-EfnNF0"
      },
      "execution_count": null,
      "outputs": []
    },
    {
      "cell_type": "code",
      "source": [
        "get_sent_senti_score(word_lst)"
      ],
      "metadata": {
        "colab": {
          "base_uri": "https://localhost:8080/"
        },
        "id": "b7926ZZbpeJX",
        "outputId": "10f3254a-c488-4943-a664-7b5d95e62385"
      },
      "execution_count": null,
      "outputs": [
        {
          "output_type": "execute_result",
          "data": {
            "text/plain": [
              "1"
            ]
          },
          "metadata": {},
          "execution_count": 21
        }
      ]
    },
    {
      "cell_type": "code",
      "source": [
        "from google.colab import drive\n",
        "\n",
        "drive.mount('/content/drive')"
      ],
      "metadata": {
        "colab": {
          "base_uri": "https://localhost:8080/"
        },
        "id": "fvVkskqjrFg9",
        "outputId": "745b16ed-4cef-41d7-8f1b-20c6b2021ded"
      },
      "execution_count": null,
      "outputs": [
        {
          "output_type": "stream",
          "name": "stdout",
          "text": [
            "Mounted at /content/drive\n"
          ]
        }
      ]
    },
    {
      "cell_type": "code",
      "source": [
        "import pandas as pd\n",
        "path = '/content/drive/MyDrive/2022_1_Study_AI/data/labeledTrainData.tsv'\n",
        "df_review = pd.read_csv(path, sep='\\t', quoting=3)\n",
        "df_review.head()"
      ],
      "metadata": {
        "colab": {
          "base_uri": "https://localhost:8080/",
          "height": 206
        },
        "id": "jIOe9WeSrPGB",
        "outputId": "984a74d7-2ed9-4370-a63c-0da989bb2d04"
      },
      "execution_count": null,
      "outputs": [
        {
          "output_type": "execute_result",
          "data": {
            "text/plain": [
              "         id  sentiment                                             review\n",
              "0  \"5814_8\"          1  \"With all this stuff going down at the moment ...\n",
              "1  \"2381_9\"          1  \"\\\"The Classic War of the Worlds\\\" by Timothy ...\n",
              "2  \"7759_3\"          0  \"The film starts with a manager (Nicholas Bell...\n",
              "3  \"3630_4\"          0  \"It must be assumed that those who praised thi...\n",
              "4  \"9495_8\"          1  \"Superbly trashy and wondrously unpretentious ..."
            ],
            "text/html": [
              "\n",
              "  <div id=\"df-ce01664d-32f4-46e7-9e2a-cdd96bbd3e89\">\n",
              "    <div class=\"colab-df-container\">\n",
              "      <div>\n",
              "<style scoped>\n",
              "    .dataframe tbody tr th:only-of-type {\n",
              "        vertical-align: middle;\n",
              "    }\n",
              "\n",
              "    .dataframe tbody tr th {\n",
              "        vertical-align: top;\n",
              "    }\n",
              "\n",
              "    .dataframe thead th {\n",
              "        text-align: right;\n",
              "    }\n",
              "</style>\n",
              "<table border=\"1\" class=\"dataframe\">\n",
              "  <thead>\n",
              "    <tr style=\"text-align: right;\">\n",
              "      <th></th>\n",
              "      <th>id</th>\n",
              "      <th>sentiment</th>\n",
              "      <th>review</th>\n",
              "    </tr>\n",
              "  </thead>\n",
              "  <tbody>\n",
              "    <tr>\n",
              "      <th>0</th>\n",
              "      <td>\"5814_8\"</td>\n",
              "      <td>1</td>\n",
              "      <td>\"With all this stuff going down at the moment ...</td>\n",
              "    </tr>\n",
              "    <tr>\n",
              "      <th>1</th>\n",
              "      <td>\"2381_9\"</td>\n",
              "      <td>1</td>\n",
              "      <td>\"\\\"The Classic War of the Worlds\\\" by Timothy ...</td>\n",
              "    </tr>\n",
              "    <tr>\n",
              "      <th>2</th>\n",
              "      <td>\"7759_3\"</td>\n",
              "      <td>0</td>\n",
              "      <td>\"The film starts with a manager (Nicholas Bell...</td>\n",
              "    </tr>\n",
              "    <tr>\n",
              "      <th>3</th>\n",
              "      <td>\"3630_4\"</td>\n",
              "      <td>0</td>\n",
              "      <td>\"It must be assumed that those who praised thi...</td>\n",
              "    </tr>\n",
              "    <tr>\n",
              "      <th>4</th>\n",
              "      <td>\"9495_8\"</td>\n",
              "      <td>1</td>\n",
              "      <td>\"Superbly trashy and wondrously unpretentious ...</td>\n",
              "    </tr>\n",
              "  </tbody>\n",
              "</table>\n",
              "</div>\n",
              "      <button class=\"colab-df-convert\" onclick=\"convertToInteractive('df-ce01664d-32f4-46e7-9e2a-cdd96bbd3e89')\"\n",
              "              title=\"Convert this dataframe to an interactive table.\"\n",
              "              style=\"display:none;\">\n",
              "        \n",
              "  <svg xmlns=\"http://www.w3.org/2000/svg\" height=\"24px\"viewBox=\"0 0 24 24\"\n",
              "       width=\"24px\">\n",
              "    <path d=\"M0 0h24v24H0V0z\" fill=\"none\"/>\n",
              "    <path d=\"M18.56 5.44l.94 2.06.94-2.06 2.06-.94-2.06-.94-.94-2.06-.94 2.06-2.06.94zm-11 1L8.5 8.5l.94-2.06 2.06-.94-2.06-.94L8.5 2.5l-.94 2.06-2.06.94zm10 10l.94 2.06.94-2.06 2.06-.94-2.06-.94-.94-2.06-.94 2.06-2.06.94z\"/><path d=\"M17.41 7.96l-1.37-1.37c-.4-.4-.92-.59-1.43-.59-.52 0-1.04.2-1.43.59L10.3 9.45l-7.72 7.72c-.78.78-.78 2.05 0 2.83L4 21.41c.39.39.9.59 1.41.59.51 0 1.02-.2 1.41-.59l7.78-7.78 2.81-2.81c.8-.78.8-2.07 0-2.86zM5.41 20L4 18.59l7.72-7.72 1.47 1.35L5.41 20z\"/>\n",
              "  </svg>\n",
              "      </button>\n",
              "      \n",
              "  <style>\n",
              "    .colab-df-container {\n",
              "      display:flex;\n",
              "      flex-wrap:wrap;\n",
              "      gap: 12px;\n",
              "    }\n",
              "\n",
              "    .colab-df-convert {\n",
              "      background-color: #E8F0FE;\n",
              "      border: none;\n",
              "      border-radius: 50%;\n",
              "      cursor: pointer;\n",
              "      display: none;\n",
              "      fill: #1967D2;\n",
              "      height: 32px;\n",
              "      padding: 0 0 0 0;\n",
              "      width: 32px;\n",
              "    }\n",
              "\n",
              "    .colab-df-convert:hover {\n",
              "      background-color: #E2EBFA;\n",
              "      box-shadow: 0px 1px 2px rgba(60, 64, 67, 0.3), 0px 1px 3px 1px rgba(60, 64, 67, 0.15);\n",
              "      fill: #174EA6;\n",
              "    }\n",
              "\n",
              "    [theme=dark] .colab-df-convert {\n",
              "      background-color: #3B4455;\n",
              "      fill: #D2E3FC;\n",
              "    }\n",
              "\n",
              "    [theme=dark] .colab-df-convert:hover {\n",
              "      background-color: #434B5C;\n",
              "      box-shadow: 0px 1px 3px 1px rgba(0, 0, 0, 0.15);\n",
              "      filter: drop-shadow(0px 1px 2px rgba(0, 0, 0, 0.3));\n",
              "      fill: #FFFFFF;\n",
              "    }\n",
              "  </style>\n",
              "\n",
              "      <script>\n",
              "        const buttonEl =\n",
              "          document.querySelector('#df-ce01664d-32f4-46e7-9e2a-cdd96bbd3e89 button.colab-df-convert');\n",
              "        buttonEl.style.display =\n",
              "          google.colab.kernel.accessAllowed ? 'block' : 'none';\n",
              "\n",
              "        async function convertToInteractive(key) {\n",
              "          const element = document.querySelector('#df-ce01664d-32f4-46e7-9e2a-cdd96bbd3e89');\n",
              "          const dataTable =\n",
              "            await google.colab.kernel.invokeFunction('convertToInteractive',\n",
              "                                                     [key], {});\n",
              "          if (!dataTable) return;\n",
              "\n",
              "          const docLinkHtml = 'Like what you see? Visit the ' +\n",
              "            '<a target=\"_blank\" href=https://colab.research.google.com/notebooks/data_table.ipynb>data table notebook</a>'\n",
              "            + ' to learn more about interactive tables.';\n",
              "          element.innerHTML = '';\n",
              "          dataTable['output_type'] = 'display_data';\n",
              "          await google.colab.output.renderOutput(dataTable, element);\n",
              "          const docLink = document.createElement('div');\n",
              "          docLink.innerHTML = docLinkHtml;\n",
              "          element.appendChild(docLink);\n",
              "        }\n",
              "      </script>\n",
              "    </div>\n",
              "  </div>\n",
              "  "
            ]
          },
          "metadata": {},
          "execution_count": 23
        }
      ]
    },
    {
      "cell_type": "code",
      "source": [
        "df_review['review'][0]"
      ],
      "metadata": {
        "colab": {
          "base_uri": "https://localhost:8080/",
          "height": 235
        },
        "id": "JhSGHG5TrxtV",
        "outputId": "927aadc8-a55f-4d9e-8df2-ae55745c5082"
      },
      "execution_count": null,
      "outputs": [
        {
          "output_type": "execute_result",
          "data": {
            "text/plain": [
              "'\"With all this stuff going down at the moment with MJ i\\'ve started listening to his music, watching the odd documentary here and there, watched The Wiz and watched Moonwalker again. Maybe i just want to get a certain insight into this guy who i thought was really cool in the eighties just to maybe make up my mind whether he is guilty or innocent. Moonwalker is part biography, part feature film which i remember going to see at the cinema when it was originally released. Some of it has subtle messages about MJ\\'s feeling towards the press and also the obvious message of drugs are bad m\\'kay.<br /><br />Visually impressive but of course this is all about Michael Jackson so unless you remotely like MJ in anyway then you are going to hate this and find it boring. Some may call MJ an egotist for consenting to the making of this movie BUT MJ and most of his fans would say that he made it for the fans which if true is really nice of him.<br /><br />The actual feature film bit when it finally starts is only on for 20 minutes or so excluding the Smooth Criminal sequence and Joe Pesci is convincing as a psychopathic all powerful drug lord. Why he wants MJ dead so bad is beyond me. Because MJ overheard his plans? Nah, Joe Pesci\\'s character ranted that he wanted people to know it is he who is supplying drugs etc so i dunno, maybe he just hates MJ\\'s music.<br /><br />Lots of cool things in this like MJ turning into a car and a robot and the whole Speed Demon sequence. Also, the director must have had the patience of a saint when it came to filming the kiddy Bad sequence as usually directors hate working with one kid let alone a whole bunch of them performing a complex dance scene.<br /><br />Bottom line, this movie is for people who like MJ on one level or another (which i think is most people). If not, then stay away. It does try and give off a wholesome message and ironically MJ\\'s bestest buddy in this movie is a girl! Michael Jackson is truly one of the most talented people ever to grace this planet but is he guilty? Well, with all the attention i\\'ve gave this subject....hmmm well i don\\'t know because people can be different behind closed doors, i know this for a fact. He is either an extremely nice but stupid guy or one of the most sickest liars. I hope he is not the latter.\"'"
            ],
            "application/vnd.google.colaboratory.intrinsic+json": {
              "type": "string"
            }
          },
          "metadata": {},
          "execution_count": 24
        }
      ]
    },
    {
      "cell_type": "code",
      "source": [
        "import re\n",
        "# 데이터 전처리\n",
        "df_review[\"review\"] = df_review[\"review\"].apply( lambda x : x.replace('<br />', ' ') )\n",
        "df_review[\"review\"] = df_review[\"review\"].apply( lambda x : re.sub(\"[^a-zA-Z]\", \" \", x) )\n",
        "df_review['review'][0]"
      ],
      "metadata": {
        "colab": {
          "base_uri": "https://localhost:8080/",
          "height": 235
        },
        "id": "ejJs-Al2t2CE",
        "outputId": "ee3cf8a3-922e-483e-f727-7e869a12fa06"
      },
      "execution_count": null,
      "outputs": [
        {
          "output_type": "execute_result",
          "data": {
            "text/plain": [
              "' With all this stuff going down at the moment with MJ i ve started listening to his music  watching the odd documentary here and there  watched The Wiz and watched Moonwalker again  Maybe i just want to get a certain insight into this guy who i thought was really cool in the eighties just to maybe make up my mind whether he is guilty or innocent  Moonwalker is part biography  part feature film which i remember going to see at the cinema when it was originally released  Some of it has subtle messages about MJ s feeling towards the press and also the obvious message of drugs are bad m kay   Visually impressive but of course this is all about Michael Jackson so unless you remotely like MJ in anyway then you are going to hate this and find it boring  Some may call MJ an egotist for consenting to the making of this movie BUT MJ and most of his fans would say that he made it for the fans which if true is really nice of him   The actual feature film bit when it finally starts is only on for    minutes or so excluding the Smooth Criminal sequence and Joe Pesci is convincing as a psychopathic all powerful drug lord  Why he wants MJ dead so bad is beyond me  Because MJ overheard his plans  Nah  Joe Pesci s character ranted that he wanted people to know it is he who is supplying drugs etc so i dunno  maybe he just hates MJ s music   Lots of cool things in this like MJ turning into a car and a robot and the whole Speed Demon sequence  Also  the director must have had the patience of a saint when it came to filming the kiddy Bad sequence as usually directors hate working with one kid let alone a whole bunch of them performing a complex dance scene   Bottom line  this movie is for people who like MJ on one level or another  which i think is most people   If not  then stay away  It does try and give off a wholesome message and ironically MJ s bestest buddy in this movie is a girl  Michael Jackson is truly one of the most talented people ever to grace this planet but is he guilty  Well  with all the attention i ve gave this subject    hmmm well i don t know because people can be different behind closed doors  i know this for a fact  He is either an extremely nice but stupid guy or one of the most sickest liars  I hope he is not the latter  '"
            ],
            "application/vnd.google.colaboratory.intrinsic+json": {
              "type": "string"
            }
          },
          "metadata": {},
          "execution_count": 25
        }
      ]
    },
    {
      "cell_type": "code",
      "source": [
        "def get_sent_senti_score(text):\n",
        "  sentences = sent_tokenize(text)\n",
        "  word_lst=[]\n",
        "  for sentence in sentences:\n",
        "    words = word_tokenize(sentence)\n",
        "    word_lst.append(words)\n",
        "  \n",
        "  sum_senti_score = 0\n",
        "  for words in word_lst:\n",
        "    senti_score = get_words_senti_score(words)\n",
        "    sum_senti_score += senti_score\n",
        "\n",
        "  print(sum_senti_score)\n",
        "  if sum_senti_score >0:\n",
        "    return 1\n",
        "  \n",
        "  return 0"
      ],
      "metadata": {
        "id": "PO-6HqOLyX4E"
      },
      "execution_count": null,
      "outputs": []
    },
    {
      "cell_type": "code",
      "source": [
        "get_sent_senti_score(df_review['review'][2])"
      ],
      "metadata": {
        "colab": {
          "base_uri": "https://localhost:8080/"
        },
        "id": "v3Hx7Ie9zX1h",
        "outputId": "366e4e68-3f70-4ee0-cd8e-c2d30ba0baf9"
      },
      "execution_count": null,
      "outputs": [
        {
          "output_type": "stream",
          "name": "stdout",
          "text": [
            "-1.056\n"
          ]
        },
        {
          "output_type": "execute_result",
          "data": {
            "text/plain": [
              "0"
            ]
          },
          "metadata": {},
          "execution_count": 27
        }
      ]
    },
    {
      "cell_type": "code",
      "source": [
        "df_review['pred']=df_review['review'].apply(lambda x : get_sent_senti_score(x))"
      ],
      "metadata": {
        "id": "xalKa7Zlzkh4"
      },
      "execution_count": null,
      "outputs": []
    },
    {
      "cell_type": "code",
      "source": [
        "y_target=df_review['sentiment'].values\n",
        "preds = df_review['pred'].values"
      ],
      "metadata": {
        "id": "zQouoDQ10oub"
      },
      "execution_count": null,
      "outputs": []
    },
    {
      "cell_type": "code",
      "source": [
        "from sklearn.metrics import accuracy_score, precision_score, recall_score, confusion_matrix\n",
        "from sklearn.metrics import f1_score, roc_auc_score\n",
        "\n",
        "def get_clf_eval(y_test, pred=None, pred_proba_po=None):\n",
        "    confusion = confusion_matrix(y_test, pred)\n",
        "    accuracy = accuracy_score(y_test, pred)\n",
        "    precision = precision_score(y_test, pred)\n",
        "    recall = recall_score(y_test, pred)\n",
        "    f1 = f1_score(y_test, pred)\n",
        "    # auc = roc_auc_score(y_test, pred_proba_po)\n",
        "   \n",
        "    print(\"오차 행렬\")\n",
        "    print(confusion)\n",
        "    print(f\"정확도: {accuracy:.4f}, 정밀도: {precision:.4f}, 재현율: {recall:.4f}, F1: {f1:.4f}\")\n",
        "\n",
        "get_clf_eval(y_target, pred=preds)"
      ],
      "metadata": {
        "colab": {
          "base_uri": "https://localhost:8080/"
        },
        "id": "-fCexT-T01bi",
        "outputId": "147e7fbd-6486-436d-e546-62bdd86e2e13"
      },
      "execution_count": null,
      "outputs": [
        {
          "output_type": "stream",
          "name": "stdout",
          "text": [
            "오차 행렬\n",
            "[[ 4414  8086]\n",
            " [ 1509 10991]]\n",
            "정확도: 0.6162, 정밀도: 0.5761, 재현율: 0.8793, F1: 0.6961\n"
          ]
        }
      ]
    }
  ]
}